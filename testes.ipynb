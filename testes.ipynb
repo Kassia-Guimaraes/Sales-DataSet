{
 "cells": [
  {
   "cell_type": "code",
   "execution_count": null,
   "metadata": {},
   "outputs": [],
   "source": [
    "colors = '''\n",
    "\\033[91m    Vermelho\n",
    "\\033[92m    Verde\n",
    "\\033[93m    Amarelo\n",
    "\\033[94m    Azul\n",
    "\\033[95m    Magenta\n",
    "\\033[96m    Ciano\n",
    "\\033[97m    Branco\n",
    "'''\n",
    "print(colors)"
   ]
  },
  {
   "cell_type": "code",
   "execution_count": null,
   "metadata": {},
   "outputs": [],
   "source": [
    "import pandas as pd\n",
    "\n",
    "# Carregar o arquivo CSV\n",
    "sales_df = pd.read_csv(\"salesBase.csv\")\n",
    "\n",
    "# Converter a coluna 'date' para o formato datetime\n",
    "sales_df['date'] = pd.to_datetime(sales_df['date'], errors='coerce', format='%m/%d/%Y')\n",
    "\n",
    "# Filtrar apenas as vendas do mês 1 (janeiro)\n",
    "vendas_janeiro = sales_df[sales_df['date'].dt.month == 1]\n",
    "\n",
    "# Exibir as vendas do mês de janeiro\n",
    "print(vendas_janeiro)"
   ]
  },
  {
   "cell_type": "code",
   "execution_count": null,
   "metadata": {},
   "outputs": [],
   "source": [
    "import pandas as pd \n",
    "\n",
    "sales_df = pd.read_csv('salesBase.csv')\n",
    "\n",
    "\n",
    "print()\n"
   ]
  },
  {
   "cell_type": "code",
   "execution_count": null,
   "metadata": {},
   "outputs": [],
   "source": [
    "import pandas as pd\n",
    "\n",
    "sales_df = pd.read_csv('salesBase.csv')\n",
    "sales_df['date'] = pd.to_datetime(sales_df['date'], errors='coerce', format='%d/%m/%Y')\n",
    "\n",
    "def percentualVariation(df, toFilter, groupBy):\n",
    "\n",
    "    df['day'] = df['date'].dt.to_period('D')\n",
    "    df['month'] = df['date'].dt.to_period('M')\n",
    "    df['year'] = df['date'].dt.to_period('Y')\n",
    "\n",
    "    for filter_by in toFilter:\n",
    "        #Verify columns type\n",
    "        if df[filter_by].dtype == 'int64':\n",
    "            #If integer calculate average\n",
    "            sumGroup_df = df.groupby(groupBy)[filter_by].sum().pct_change()*100\n",
    "        else:\n",
    "            #If not integer count elements \n",
    "            sumGroup_df = df.groupby(groupBy)[filter_by].sum().pct_change()*100\n",
    "\n",
    "    print(f\"\\033[0;0m\\nThe percentage change in \\033[94m{groupBy}\\033[0;0m between \\033[94m{toFilter}\\033[0;0m\\n\")\n",
    "    #viewDataFrame(sorted_products_df)\n",
    "    print(sumGroup_df.to_markdown())\n",
    "\n",
    "    return\n",
    "\n",
    "percentualVariation(sales_df, ['profit'], ['month', 'brand'])"
   ]
  }
 ],
 "metadata": {
  "kernelspec": {
   "display_name": "Python 3",
   "language": "python",
   "name": "python3"
  },
  "language_info": {
   "codemirror_mode": {
    "name": "ipython",
    "version": 3
   },
   "file_extension": ".py",
   "mimetype": "text/x-python",
   "name": "python",
   "nbconvert_exporter": "python",
   "pygments_lexer": "ipython3",
   "version": "3.12.0"
  }
 },
 "nbformat": 4,
 "nbformat_minor": 2
}
